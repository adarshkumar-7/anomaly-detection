{
  "nbformat": 4,
  "nbformat_minor": 0,
  "metadata": {
    "colab": {
      "provenance": []
    },
    "kernelspec": {
      "name": "python3",
      "display_name": "Python 3"
    },
    "language_info": {
      "name": "python"
    }
  },
  "cells": [
    {
      "cell_type": "code",
      "execution_count": null,
      "metadata": {
        "colab": {
          "base_uri": "https://localhost:8080/"
        },
        "id": "TSZegagbh1ce",
        "outputId": "2ebae381-549c-4180-cc3d-55e6d4908f5c"
      },
      "outputs": [
        {
          "output_type": "stream",
          "name": "stdout",
          "text": [
            "Mounted at /content/drive\n"
          ]
        }
      ],
      "source": [
        "#Mounting to Google drive\n",
        "from google.colab import drive\n",
        "drive.mount('/content/drive')"
      ]
    },
    {
      "cell_type": "code",
      "source": [
        "%cd '/content/drive/MyDrive/ICPS PROJECT/ICPS Project Dataset'"
      ],
      "metadata": {
        "colab": {
          "base_uri": "https://localhost:8080/"
        },
        "id": "vv2HDdOih26u",
        "outputId": "245614fc-b985-489a-d2ca-28b003eb75f8"
      },
      "execution_count": null,
      "outputs": [
        {
          "output_type": "stream",
          "name": "stdout",
          "text": [
            "/content/drive/MyDrive/ICPS PROJECT/ICPS Project Dataset\n"
          ]
        }
      ]
    },
    {
      "cell_type": "code",
      "source": [
        "from keras.models import Sequential\n",
        "from keras.layers import Convolution2D\n",
        "from keras.layers import MaxPooling2D\n",
        "from keras.layers import Dense\n",
        "from keras.layers import Flatten\n",
        "from keras.preprocessing.image import ImageDataGenerator\n",
        "import matplotlib.pyplot as plt\n",
        "\n",
        "model_classification = Sequential() #CNN initializtion\n",
        "\n",
        "model_classification.add(Convolution2D(32,(3,3),input_shape = (64,64,3), activation = 'relu')) #layer 1\n",
        "model_classification.add(MaxPooling2D(pool_size = (2, 2)))\n",
        "\n",
        "model_classification.add(Convolution2D(32,(3,3), activation = 'relu')) #layer 2\n",
        "model_classification.add(MaxPooling2D(pool_size = (2, 2)))\n",
        "\n",
        "\n",
        "model_classification.add(Flatten()) #Flattening layers\n",
        "\n",
        "\n",
        "model_classification.add(Dense(units=32, activation = 'relu'))\n",
        "model_classification.add(Dense(units=64, activation = 'relu'))\n",
        "model_classification.add(Dense(units=128,activation = 'relu'))\n",
        "model_classification.add(Dense(units=256,activation = 'relu'))\n",
        "model_classification.add(Dense(units=256,activation = 'relu'))\n",
        "model_classification.add(Dense(units=7,activation = 'softmax'))\n",
        "\n",
        "model_classification.compile(optimizer = 'adam', loss = 'categorical_crossentropy', metrics = ['accuracy']) #Compiling CNN\n",
        "\n",
        "#Fitting CNN on training and testing images\n",
        "train_data = ImageDataGenerator(rescale = 1./255, shear_range = 0.2, zoom_range = 0.2, horizontal_flip = True) \n",
        "test_data = ImageDataGenerator(rescale = 1./255)\n",
        "\n",
        "print(\"\\nTraining...\\n\")\n",
        "\n",
        "training_set = train_data.flow_from_directory('train', target_size=(64,64), batch_size=12, class_mode='categorical')\n",
        "#batch size must be selected in such a way that it is a divisor of no.of training images.\n",
        "testing_set = test_data.flow_from_directory('test', target_size=(64,64), batch_size=12, class_mode='categorical') \n",
        "#class mode is categorical since 3 things are being classified.\n",
        "\n",
        "history = model_classification.fit(training_set, steps_per_epoch = 101, epochs = 20, validation_data = testing_set, validation_steps = 300) \n",
        "# steps_per_epoch = Total training images / batch_size, validation_steps = Total testing images\n",
        "#Graphs\n",
        "history.history.keys()\n",
        "\n",
        "plt.plot(history.history['accuracy'])\n",
        "plt.title('Accuracy of the Model')\n",
        "plt.xlabel('epoch')\n",
        "plt.ylabel('accuracy')\n",
        "plt.show()\n",
        "\n",
        "plt.plot(history.history['loss'])\n",
        "plt.title('Loss of the Model')\n",
        "plt.xlabel('epoch')\n",
        "plt.ylabel('loss')\n",
        "plt.show()\n",
        "\n",
        "model_classification.save(\"model1.h5\")"
      ],
      "metadata": {
        "colab": {
          "base_uri": "https://localhost:8080/",
          "height": 1000
        },
        "id": "GcGuKyFziGwl",
        "outputId": "6ed24ac2-10af-4134-ffa8-69ffc6a9dd4e"
      },
      "execution_count": null,
      "outputs": [
        {
          "output_type": "stream",
          "name": "stdout",
          "text": [
            "\n",
            "Training...\n",
            "\n",
            "Found 1212 images belonging to 7 classes.\n",
            "Found 300 images belonging to 7 classes.\n",
            "Epoch 1/20\n",
            "101/101 [==============================] - ETA: 0s - loss: 1.7099 - accuracy: 0.3028"
          ]
        },
        {
          "output_type": "stream",
          "name": "stderr",
          "text": [
            "WARNING:tensorflow:Your input ran out of data; interrupting training. Make sure that your dataset or generator can generate at least `steps_per_epoch * epochs` batches (in this case, 300 batches). You may need to use the repeat() function when building your dataset.\n"
          ]
        },
        {
          "output_type": "stream",
          "name": "stdout",
          "text": [
            "\b\b\b\b\b\b\b\b\b\b\b\b\b\b\b\b\b\b\b\b\b\b\b\b\b\b\b\b\b\b\b\b\b\b\b\b\b\b\b\b\b\b\b\b\b\b\b\b\b\b\b\b\b\b\b\b\b\b\b\b\b\b\b\b\b\b\b\b\b\b\b\b\b\b\b\b\b\b\b\b\b\b\b\b\r101/101 [==============================] - 171s 2s/step - loss: 1.7099 - accuracy: 0.3028 - val_loss: 1.4768 - val_accuracy: 0.4300\n",
            "Epoch 2/20\n",
            "101/101 [==============================] - 16s 163ms/step - loss: 1.3586 - accuracy: 0.4596\n",
            "Epoch 3/20\n",
            "101/101 [==============================] - 15s 145ms/step - loss: 1.1317 - accuracy: 0.5611\n",
            "Epoch 4/20\n",
            "101/101 [==============================] - 15s 146ms/step - loss: 0.9556 - accuracy: 0.6469\n",
            "Epoch 5/20\n",
            "101/101 [==============================] - 17s 163ms/step - loss: 0.8877 - accuracy: 0.6939\n",
            "Epoch 6/20\n",
            "101/101 [==============================] - 15s 145ms/step - loss: 0.6912 - accuracy: 0.7607\n",
            "Epoch 7/20\n",
            "101/101 [==============================] - 15s 146ms/step - loss: 0.6675 - accuracy: 0.7855\n",
            "Epoch 8/20\n",
            "101/101 [==============================] - 16s 162ms/step - loss: 0.6030 - accuracy: 0.7946\n",
            "Epoch 9/20\n",
            "101/101 [==============================] - 15s 144ms/step - loss: 0.5678 - accuracy: 0.8069\n",
            "Epoch 10/20\n",
            "101/101 [==============================] - 15s 145ms/step - loss: 0.4826 - accuracy: 0.8309\n",
            "Epoch 11/20\n",
            "101/101 [==============================] - 16s 161ms/step - loss: 0.5206 - accuracy: 0.8267\n",
            "Epoch 12/20\n",
            "101/101 [==============================] - 15s 145ms/step - loss: 0.4946 - accuracy: 0.8391\n",
            "Epoch 13/20\n",
            "101/101 [==============================] - 15s 146ms/step - loss: 0.4269 - accuracy: 0.8597\n",
            "Epoch 14/20\n",
            "101/101 [==============================] - 17s 163ms/step - loss: 0.4235 - accuracy: 0.8622\n",
            "Epoch 15/20\n",
            "101/101 [==============================] - 15s 146ms/step - loss: 0.3986 - accuracy: 0.8663\n",
            "Epoch 16/20\n",
            "101/101 [==============================] - 15s 144ms/step - loss: 0.3517 - accuracy: 0.8746\n",
            "Epoch 17/20\n",
            "101/101 [==============================] - 14s 143ms/step - loss: 0.3534 - accuracy: 0.8845\n",
            "Epoch 18/20\n",
            "101/101 [==============================] - 16s 159ms/step - loss: 0.3700 - accuracy: 0.8721\n",
            "Epoch 19/20\n",
            "101/101 [==============================] - 15s 144ms/step - loss: 0.3610 - accuracy: 0.8779\n",
            "Epoch 20/20\n",
            "101/101 [==============================] - 17s 164ms/step - loss: 0.3629 - accuracy: 0.8713\n"
          ]
        },
        {
          "output_type": "display_data",
          "data": {
            "text/plain": [
              "<Figure size 432x288 with 1 Axes>"
            ],
            "image/png": "[encoded data removed]"
          },
          "metadata": {
            "needs_background": "light"
          }
        },
        {
          "output_type": "display_data",
          "data": {
            "text/plain": [
              "<Figure size 432x288 with 1 Axes>"
            ],
            "image/png": "[encoded data removed]"
          },
          "metadata": {
            "needs_background": "light"
          }
        }
      ]
    },
    {
      "cell_type": "code",
      "source": [],
      "metadata": {
        "id": "tjYuQv3WiwUV"
      },
      "execution_count": null,
      "outputs": []
    }
  ]
}